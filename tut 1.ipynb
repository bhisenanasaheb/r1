{
 "cells": [
  {
   "cell_type": "code",
   "execution_count": 1,
   "id": "c74bd1c2-8aba-4563-93b3-8232c6f8856a",
   "metadata": {},
   "outputs": [
    {
     "name": "stdout",
     "output_type": "stream",
     "text": [
      "hello\n"
     ]
    }
   ],
   "source": [
    "print(\"hello\")  #print is function "
   ]
  },
  {
   "cell_type": "code",
   "execution_count": 2,
   "id": "4f731274-9d48-41a1-ae95-442ff7984e97",
   "metadata": {},
   "outputs": [
    {
     "name": "stdout",
     "output_type": "stream",
     "text": [
      "tiger 556\n"
     ]
    }
   ],
   "source": [
    "print(\"tiger\",556)\n"
   ]
  },
  {
   "cell_type": "code",
   "execution_count": 3,
   "id": "5cf07426-7b2f-4218-a668-a34068863fe3",
   "metadata": {},
   "outputs": [],
   "source": [
    "#variables - placeholder/containers\n",
    "#identifier - name given to variables/function/class\n",
    "#basic data type - int(1,23...) , flot(1.2...,-5,-6..) ,sring(\"shan\"), boolen(true,flase), none( none)\n"
   ]
  },
  {
   "cell_type": "code",
   "execution_count": 4,
   "id": "ae7cb594-f5bd-4609-98bf-0ca5aa21938a",
   "metadata": {},
   "outputs": [
    {
     "name": "stdin",
     "output_type": "stream",
     "text": [
      "Enter your name ram\n"
     ]
    }
   ],
   "source": [
    "#input\n",
    "name = input (\"Enter your name\")\n"
   ]
  },
  {
   "cell_type": "code",
   "execution_count": 5,
   "id": "d4c385e7-1179-48fd-be71-5c6993726ff3",
   "metadata": {},
   "outputs": [
    {
     "name": "stdout",
     "output_type": "stream",
     "text": [
      "True True\n"
     ]
    }
   ],
   "source": [
    "age =\"value\"                            # variable is filled with num. or string ,it should be boolen -true. but it doesnt false\n",
    "num = 5000\n",
    "print(bool(age),bool(num))"
   ]
  },
  {
   "cell_type": "code",
   "execution_count": 15,
   "id": "faa1cb2d-48e5-4301-98ee-ac3754448859",
   "metadata": {},
   "outputs": [
    {
     "name": "stdin",
     "output_type": "stream",
     "text": [
      "enter your age 56.89\n",
      "enter your bod 150123\n",
      "enter your sub 6\n"
     ]
    },
    {
     "name": "stdout",
     "output_type": "stream",
     "text": [
      "<class 'float'> <class 'int'> <class 'bool'>\n"
     ]
    }
   ],
   "source": [
    "age =float(input (\"enter your age\"))  #datatype casting int to float ,float to int .....\n",
    "bod =int(input(\"enter your bod\"))\n",
    "sub = bool(input(\"enter your sub\"))\n",
    "print(type(age),type(bod),type(sub))"
   ]
  },
  {
   "cell_type": "code",
   "execution_count": 18,
   "id": "1018bc79-a82c-4124-8c0c-5b8c52b92363",
   "metadata": {},
   "outputs": [
    {
     "name": "stdin",
     "output_type": "stream",
     "text": [
      "student name : riyansh\n",
      "student age : 2\n",
      "student standrad : 2\n",
      "student percentage: 56.23\n"
     ]
    },
    {
     "name": "stdout",
     "output_type": "stream",
     "text": [
      "<class 'str'> <class 'int'> <class 'int'> <class 'float'>\n",
      "True True True True False\n"
     ]
    }
   ],
   "source": [
    "\n",
    "name = str(input(\"student name :\"))\n",
    "age = int(input(\"student age :\"))\n",
    "std = int(input(\"student standrad :\"))\n",
    "per = float(input(\"student percentage:\"))\n",
    "res= 0\n",
    "print(type(name),type(age),type(std),type(per))\n",
    "print(bool(name),bool(age),bool(std),bool(per),bool(res))\n",
    "           \n",
    "           "
   ]
  },
  {
   "cell_type": "code",
   "execution_count": 22,
   "id": "0a3f6dce-0b09-4299-8098-79c9f45f86cd",
   "metadata": {},
   "outputs": [
    {
     "name": "stdout",
     "output_type": "stream",
     "text": [
      "my name is :riyansh bhise.   my age is :5.   my standrad is : 2.    my percentage is : 88.25 \n"
     ]
    }
   ],
   "source": [
    "#formating\n",
    "name = \"riyansh bhise\"  \n",
    "age = 5\n",
    "std = 2\n",
    "per = 88.25\n",
    "print(\"my name is :{}.   my age is :{}.   my standrad is : {}.    my percentage is : {} \".format(name,age,std,per))\n",
    "           \n",
    "           "
   ]
  },
  {
   "cell_type": "code",
   "execution_count": 7,
   "id": "b4020391-8485-48b9-a453-1906cd63e863",
   "metadata": {},
   "outputs": [
    {
     "name": "stdout",
     "output_type": "stream",
     "text": [
      "106\n",
      "94\n",
      "16.666666666666668\n",
      "16\n",
      "600\n",
      "10000\n",
      "True\n",
      "False\n",
      "False\n",
      "135\n"
     ]
    }
   ],
   "source": [
    "#oprater and boolen\n",
    "a=100\n",
    "b=6\n",
    "print(a+b) #addition operator\n",
    "print(a-b) #sub oprator\n",
    "print(a/b) #division\n",
    "print(a//b) #interger dividion\n",
    "print(a*b) #multiply\n",
    "print (a**2)  # power \n",
    "print(a>b) # greater than \n",
    "print(a<b) #less than\n",
    "print(a==b) # equal than\n",
    "c = \"my name is riyansh\"\n",
    "a=a+15 # modifying old veriable\n",
    "a +=20\n",
    "print (a)\n"
   ]
  },
  {
   "cell_type": "code",
   "execution_count": 9,
   "id": "eeab8492-695a-49ba-94c9-f8fe8667dd7f",
   "metadata": {},
   "outputs": [
    {
     "data": {
      "text/plain": [
       "True"
      ]
     },
     "execution_count": 9,
     "metadata": {},
     "output_type": "execute_result"
    }
   ],
   "source": [
    "# oprator in ,is, is not\n",
    "nam= \"my name is riyansh \"\n",
    "\"my\" in nam\n",
    "\"riy\" in nam\n"
   ]
  },
  {
   "cell_type": "code",
   "execution_count": 10,
   "id": "290f1445-6938-480c-9476-c967b07056c5",
   "metadata": {},
   "outputs": [
    {
     "data": {
      "text/plain": [
       "True"
      ]
     },
     "execution_count": 10,
     "metadata": {},
     "output_type": "execute_result"
    }
   ],
   "source": [
    "\"is\" in nam"
   ]
  },
  {
   "cell_type": "code",
   "execution_count": 11,
   "id": "b52f8d8a-5f23-4e7b-addc-756c7c9aca32",
   "metadata": {},
   "outputs": [
    {
     "data": {
      "text/plain": [
       "True"
      ]
     },
     "execution_count": 11,
     "metadata": {},
     "output_type": "execute_result"
    }
   ],
   "source": [
    "\"my name\" in nam"
   ]
  },
  {
   "cell_type": "raw",
   "id": "093b27f5-8070-4e4e-a4b7-2cc536afc70c",
   "metadata": {},
   "source": [
    "oprator  grater than or equal to\n"
   ]
  },
  {
   "cell_type": "code",
   "execution_count": 18,
   "id": "2de17793-dad3-4c4e-822d-863b4e2d976c",
   "metadata": {},
   "outputs": [
    {
     "name": "stdout",
     "output_type": "stream",
     "text": [
      "True\n"
     ]
    }
   ],
   "source": [
    "a = 13\n",
    "b=13\n",
    "print(a>=b)"
   ]
  },
  {
   "cell_type": "code",
   "execution_count": 19,
   "id": "3d9ab689-ad18-402c-895c-e0f75ab3b398",
   "metadata": {},
   "outputs": [
    {
     "name": "stdout",
     "output_type": "stream",
     "text": [
      "True\n"
     ]
    }
   ],
   "source": [
    "#less than and equal to <=\n",
    "a= 16\n",
    "b =25\n",
    "print(a<=b)"
   ]
  },
  {
   "cell_type": "code",
   "execution_count": 20,
   "id": "3a6f1047-fe42-4d58-8a47-e27851e3bc5c",
   "metadata": {},
   "outputs": [
    {
     "name": "stdout",
     "output_type": "stream",
     "text": [
      "6\n"
     ]
    }
   ],
   "source": [
    "# mod operator %   , remainder will be mod \n",
    "a =97 \n",
    "b=7\n",
    "print(a%b)\n",
    "\n"
   ]
  },
  {
   "cell_type": "code",
   "execution_count": null,
   "id": "d32f712d-2a4d-412c-a27f-9061c23e1e57",
   "metadata": {
    "jupyter": {
     "source_hidden": true
    }
   },
   "outputs": [],
   "source": [
    "#if else statement "
   ]
  },
  {
   "cell_type": "code",
   "execution_count": 36,
   "id": "6999b32e-05d8-4e30-9cb1-746b66d87783",
   "metadata": {},
   "outputs": [
    {
     "name": "stdin",
     "output_type": "stream",
     "text": [
      "enter yesterday market 24400\n",
      "enter today market 24698\n"
     ]
    },
    {
     "name": "stdout",
     "output_type": "stream",
     "text": [
      "1.221311475409836\n",
      "you can buy\n",
      "code is finished\n"
     ]
    }
   ],
   "source": [
    "ymarket = int (input(\"enter yesterday market\"))\n",
    "tmarket = int(input(\"enter today market\"))\n",
    "diff = tmarket-ymarket\n",
    "per = diff/ymarket*100\n",
    "if per>=0.50:\n",
    "    tper=diff/ymarket*100\n",
    "    print(tper)\n",
    "    print (\"you can buy\")\n",
    "else:\n",
    "    print(\"dont buy\")\n",
    "print(\"code is finished\")              \n",
    "\n",
    "    "
   ]
  },
  {
   "cell_type": "code",
   "execution_count": null,
   "id": "8b0146d6-712b-42b2-aa83-3771613ceca0",
   "metadata": {},
   "outputs": [],
   "source": [
    "yhigh=int(input(\"enter the yesterday highest price\"))\n",
    "ylow = int(input(\"enter the yesterday lowset price\"))\n",
    "cp=\n",
    "        "
   ]
  },
  {
   "cell_type": "code",
   "execution_count": null,
   "id": "99e102d7-9234-4b63-b18c-112691b93e9d",
   "metadata": {},
   "outputs": [],
   "source": []
  },
  {
   "cell_type": "code",
   "execution_count": null,
   "id": "8b17a6fd-920e-4682-b6a1-aef591e60222",
   "metadata": {},
   "outputs": [],
   "source": []
  },
  {
   "cell_type": "code",
   "execution_count": null,
   "id": "6b7fe620-1fdc-4e0c-a49e-2fb88c5707df",
   "metadata": {},
   "outputs": [],
   "source": []
  },
  {
   "cell_type": "code",
   "execution_count": null,
   "id": "22f5de1c-dc6c-49b0-a7ac-d173132f5cdb",
   "metadata": {},
   "outputs": [],
   "source": []
  },
  {
   "cell_type": "code",
   "execution_count": null,
   "id": "d01bc176-c4bc-4404-b41c-3fdf9ec2cee4",
   "metadata": {},
   "outputs": [],
   "source": []
  },
  {
   "cell_type": "code",
   "execution_count": null,
   "id": "8f2072e7-1663-4e09-9c94-bd1cc09946fb",
   "metadata": {},
   "outputs": [],
   "source": []
  },
  {
   "cell_type": "code",
   "execution_count": null,
   "id": "ddc76d3b-8802-44ee-8906-13fd815d0054",
   "metadata": {},
   "outputs": [],
   "source": []
  },
  {
   "cell_type": "code",
   "execution_count": null,
   "id": "515f661f-7783-455d-bec1-8ea8a265065b",
   "metadata": {},
   "outputs": [],
   "source": []
  }
 ],
 "metadata": {
  "kernelspec": {
   "display_name": "Python 3 (ipykernel)",
   "language": "python",
   "name": "python3"
  },
  "language_info": {
   "codemirror_mode": {
    "name": "ipython",
    "version": 3
   },
   "file_extension": ".py",
   "mimetype": "text/x-python",
   "name": "python",
   "nbconvert_exporter": "python",
   "pygments_lexer": "ipython3",
   "version": "3.12.4"
  }
 },
 "nbformat": 4,
 "nbformat_minor": 5
}
